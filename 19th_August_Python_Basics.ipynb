{
 "cells": [
  {
   "cell_type": "markdown",
   "id": "22d65611",
   "metadata": {},
   "source": [
    "# Topic : Python Basics Variable"
   ]
  },
  {
   "cell_type": "markdown",
   "id": "04341b8b",
   "metadata": {},
   "source": [
    "## Question 1\n",
    "\n",
    "### Declare two variables, `x` and `y`, and assign them integer values. Swap the values of these variables without using any temporary variable."
   ]
  },
  {
   "cell_type": "markdown",
   "id": "03618aa7",
   "metadata": {},
   "source": [
    "For the above problem statement, first we have to take two variable in integer data type. after that, to avoid taking any temporary variable we add x to y or y to x. This will make either x or y the total of both. after that subtracting values of x and y from new value to swap the values of x and y respectively.      \n",
    "\n",
    "          \n",
    "while subtracing from new value make sure that the variable with addition of both values should be swapped later. As, for the below code, addition of x and y is reassigned to x and the subtraction is done after subtraction of y."
   ]
  },
  {
   "cell_type": "code",
   "execution_count": 10,
   "id": "d7138770",
   "metadata": {},
   "outputs": [
    {
     "name": "stdout",
     "output_type": "stream",
     "text": [
      "X = 5\n",
      "Y = 7\n",
      "The Swapped values are:\n",
      "X = 7\n",
      "Y = 5\n"
     ]
    }
   ],
   "source": [
    "# Taking Two Variables as integer input\n",
    "x = int(input('X = '))\n",
    "y = int(input('Y = '))\n",
    "\n",
    "# Adding both values and assigning to x\n",
    "x = x+y\n",
    "\n",
    "# To swap values subtracting values from new x\n",
    "y = x-y\n",
    "x = x-y\n",
    "\n",
    "# Printing new values\n",
    "print('The Swapped values are:')\n",
    "print('X =',x)\n",
    "print('Y =',y)"
   ]
  },
  {
   "cell_type": "markdown",
   "id": "f96110e1",
   "metadata": {},
   "source": [
    "## Question 2\n",
    "### Create a program that calculates the area of a rectangle. Take the length and width as inputs from the user and store them in variables. Calculate and display the area."
   ]
  },
  {
   "cell_type": "markdown",
   "id": "c8ed86f7",
   "metadata": {},
   "source": [
    "For above problem statement, Take two variables (length and width). The data type of variable should be float as length and width could be in floating point number. \n",
    "\n",
    "Ater taking length and width from user calculate 'area' using formula of area of rectangle, i.e. area = length * width.  \n",
    "\n",
    "Now, after calcualting area print the value of area."
   ]
  },
  {
   "cell_type": "code",
   "execution_count": 16,
   "id": "503ddea2",
   "metadata": {},
   "outputs": [
    {
     "name": "stdout",
     "output_type": "stream",
     "text": [
      "Length of rectangle is : 8.1\n",
      "Width of rectangle is : 5.3\n",
      "area of rectangle is : 42.93 sq.unit\n"
     ]
    }
   ],
   "source": [
    "# Taking length and width as input from user\n",
    "length = float(input('Length of rectangle is : '))\n",
    "width = float(input('Width of rectangle is : '))\n",
    "\n",
    "# Calculating area of rectangle\n",
    "\n",
    "area = length * width\n",
    "\n",
    "# Displaying area of rectangle\n",
    "print(f\"area of rectangle is : {area} sq.unit\")"
   ]
  },
  {
   "cell_type": "markdown",
   "id": "7dc0992a",
   "metadata": {},
   "source": [
    "## Question 3\n",
    "### Write a Python program that converts temperature from Celsius to Fahrenheit. Take the temperature in Celsius as input, store it in a variable, convert it to Fahrenheit, and display the result."
   ]
  },
  {
   "cell_type": "markdown",
   "id": "d7d7106b",
   "metadata": {},
   "source": [
    "according to problem statement, we are provided with temperature in degree celsius and have to convert it to fahrenheit. So, take temperature in celsius (temp_c) from user.\n",
    "\n",
    "after that, apply celsius to fahrenheit conversion fromula, i.e. temp_f = (temp_c*(9/5))+32\n",
    "here, temp_f is temperature in fahrenheit.\n",
    "\n",
    "Now, we have value of temperature in fahrenheit. So, we are going to print the value."
   ]
  },
  {
   "cell_type": "code",
   "execution_count": 21,
   "id": "ca12b9e4",
   "metadata": {},
   "outputs": [
    {
     "name": "stdout",
     "output_type": "stream",
     "text": [
      "Temperature in Celsius: 40\n",
      "Temperature in Fahrenheit is  104.0\n"
     ]
    }
   ],
   "source": [
    "# Take temperature input from user in celsius\n",
    "temp_c = float(input('Temperature in Celsius: '))\n",
    "\n",
    "# Apply conversion formula to input tamperature\n",
    "temp_f = (temp_c*(9/5))+32\n",
    "\n",
    "# print the result\n",
    "print('Temperature in Fahrenheit is ',temp_f)"
   ]
  },
  {
   "cell_type": "markdown",
   "id": "056a96e5",
   "metadata": {},
   "source": [
    "# Topic : String Based Questions"
   ]
  },
  {
   "cell_type": "markdown",
   "id": "de7cd016",
   "metadata": {},
   "source": [
    "## Question 1\n",
    "### Write a Python program that takes a string as input and prints the length of the string."
   ]
  },
  {
   "cell_type": "markdown",
   "id": "a536253b",
   "metadata": {},
   "source": [
    "In this problem, we will be taking a string as input and printing it's length. For that, first we take string type variable (s) and ask user to to enter the string. second we either take another variable which shows length of string and print or we can directly print length of variable."
   ]
  },
  {
   "cell_type": "code",
   "execution_count": 22,
   "id": "981123fa",
   "metadata": {},
   "outputs": [
    {
     "name": "stdout",
     "output_type": "stream",
     "text": [
      "Enter the string:hello world\n",
      "11\n"
     ]
    }
   ],
   "source": [
    "# Take string input\n",
    "string = input('Enter the string:')\n",
    "\n",
    "# Print the length of string\n",
    "print(len(string))"
   ]
  },
  {
   "cell_type": "markdown",
   "id": "073d6528",
   "metadata": {},
   "source": [
    "## Question 2\n",
    "### Create a program that takes a sentence from the user and counts the number of vowels (a, e, i, o, u) in the string."
   ]
  },
  {
   "cell_type": "markdown",
   "id": "bf436c2b",
   "metadata": {},
   "source": [
    "In this problem statement, we are going to search how many vowels are their in the string. First, we take string as input from user. second, we initialize a positive integer value (count). Third, we start a for loop to go through every alphabet of string. fourth, we apply a condtion to check that whether the alphabet is vowel or not. if the alphabet is vowel then increase count by 1 or else ignore. In this way, we get a count of number of vowels in string. Finally, we print the value of count."
   ]
  },
  {
   "cell_type": "code",
   "execution_count": 23,
   "id": "4ca9871a",
   "metadata": {},
   "outputs": [
    {
     "name": "stdout",
     "output_type": "stream",
     "text": [
      "Enter the string : hello world\n",
      "3\n"
     ]
    }
   ],
   "source": [
    "# Take string input from user\n",
    "string = input('Enter the string : ')\n",
    "\n",
    "# initializing count to 0\n",
    "count = 0\n",
    "\n",
    "# starting a loop through given string\n",
    "for i in string: \n",
    "    if i in ['a','e','i','o','u']:  # it searches which alphabet of string is vowel.\n",
    "        count += 1                  # if vowel found then count is raised by 1\n",
    "print(count)                        # after searching through enter string the fanal value of count is printed"
   ]
  },
  {
   "cell_type": "markdown",
   "id": "0db13751",
   "metadata": {},
   "source": [
    "## Question 3\n",
    "### Given a string, reverse the order of characters using string slicing and print the reversed string."
   ]
  },
  {
   "cell_type": "markdown",
   "id": "7b834245",
   "metadata": {},
   "source": [
    "To get reversed string, we can use slicing as string[::-1]  or string[len(string)::-1]"
   ]
  },
  {
   "cell_type": "code",
   "execution_count": 26,
   "id": "37b7835a",
   "metadata": {},
   "outputs": [
    {
     "name": "stdout",
     "output_type": "stream",
     "text": [
      "Enter the string : hello\n",
      "olleh\n"
     ]
    }
   ],
   "source": [
    "# take string input from user\n",
    "string = input('Enter the string : ')\n",
    "\n",
    "# Print reverse of the string using slicing\n",
    "print(string[len(string)::-1])"
   ]
  },
  {
   "cell_type": "markdown",
   "id": "98b669ac",
   "metadata": {},
   "source": [
    "## Question 4\n",
    "### Write a program that takes a string as input and checks if it is a palindrome (reads the same forwards and backwards)."
   ]
  },
  {
   "cell_type": "markdown",
   "id": "1ea8af4b",
   "metadata": {},
   "source": [
    "palindrome is a word which is same as we read it in forward or backward. that means, the reverse of the string should be equal to the string itself.\n",
    "\n",
    "So, frist take string input and then compare the string and it's reverse. if both are same then string is palindrome."
   ]
  },
  {
   "cell_type": "code",
   "execution_count": 29,
   "id": "6e5cbde1",
   "metadata": {},
   "outputs": [
    {
     "name": "stdout",
     "output_type": "stream",
     "text": [
      "Enter the string : eve\n",
      "The input sring is Palindrome.\n"
     ]
    }
   ],
   "source": [
    "# Take string input from user\n",
    "string = input('Enter the string : ')\n",
    "\n",
    "# comapre the string and it's reverse\n",
    "if string == string[::-1]:\n",
    "    print('The input sring is Palindrome.')\n",
    "else:\n",
    "    print('The input string not Plindrome.')"
   ]
  },
  {
   "cell_type": "markdown",
   "id": "220afc72",
   "metadata": {},
   "source": [
    "## Question 5\n",
    "### Create a program that takes a string as input and removes all the spaces from it. Print the modified string without spaces."
   ]
  },
  {
   "cell_type": "markdown",
   "id": "afcd5bbb",
   "metadata": {},
   "source": [
    "for the given problem statement, first we take string input from user. second, we take an empty string. Third, we start a for to go through every element of string. Forth, we apply a condtion that if i == ' ' then ignore it and take rest and add to new_string. Finally, print the new_string"
   ]
  },
  {
   "cell_type": "code",
   "execution_count": 30,
   "id": "70442144",
   "metadata": {},
   "outputs": [
    {
     "name": "stdout",
     "output_type": "stream",
     "text": [
      "Enter the string :hello world\n",
      "helloworld\n"
     ]
    }
   ],
   "source": [
    "# Take string input from user\n",
    "string = input('Enter the string :')\n",
    "\n",
    "# Taking new empty string\n",
    "new_string = ''\n",
    "\n",
    "# starting a for loop through string\n",
    "for i in string:\n",
    "    if i != ' ':                  # if condtion to ignore all spaces\n",
    "        new_string += i           # adds remaining characters to new_string\n",
    "\n",
    "# print new_string \n",
    "print(new_string)"
   ]
  }
 ],
 "metadata": {
  "kernelspec": {
   "display_name": "Python 3 (ipykernel)",
   "language": "python",
   "name": "python3"
  },
  "language_info": {
   "codemirror_mode": {
    "name": "ipython",
    "version": 3
   },
   "file_extension": ".py",
   "mimetype": "text/x-python",
   "name": "python",
   "nbconvert_exporter": "python",
   "pygments_lexer": "ipython3",
   "version": "3.9.12"
  }
 },
 "nbformat": 4,
 "nbformat_minor": 5
}
