{
 "cells": [
  {
   "cell_type": "markdown",
   "id": "cdd94f82",
   "metadata": {},
   "source": [
    "# Level : Basic"
   ]
  },
  {
   "cell_type": "markdown",
   "id": "067a83c7",
   "metadata": {},
   "source": [
    "### Question 1:\n",
    "\n",
    " Write a Python program to print the numbers from 1 to 10 using a `for` loop"
   ]
  },
  {
   "cell_type": "markdown",
   "id": "3407e2ba",
   "metadata": {},
   "source": [
    "explanation:\n",
    "To print the numbers from 1 to 10. we used range function to generate numbers from 1-10 and used print function to print the numbers"
   ]
  },
  {
   "cell_type": "code",
   "execution_count": 1,
   "id": "cdcfab01",
   "metadata": {},
   "outputs": [
    {
     "name": "stdout",
     "output_type": "stream",
     "text": [
      "1 2 3 4 5 6 7 8 9 10 "
     ]
    }
   ],
   "source": [
    "# Using for loop to print numbers from 1-10\n",
    "for i in range(1,11):\n",
    "    print(i,end = ' ')"
   ]
  },
  {
   "cell_type": "markdown",
   "id": "e6abdb26",
   "metadata": {},
   "source": [
    "### Question 2:\n",
    "\n",
    "Create a program that calculates the sum of all numbers in a list using a `for` loop."
   ]
  },
  {
   "cell_type": "markdown",
   "id": "69c68d11",
   "metadata": {},
   "source": [
    "explanation :\n",
    "we are provided with the list of numbers. To calculate the sum we initialize a variable with value '0'. By using for loop we iterate over the list and add every element to 'sum2'.Then, finally we print the value of sum2."
   ]
  },
  {
   "cell_type": "code",
   "execution_count": 2,
   "id": "df24df86",
   "metadata": {},
   "outputs": [
    {
     "name": "stdout",
     "output_type": "stream",
     "text": [
      "72\n"
     ]
    }
   ],
   "source": [
    "l2 = [1, 2, 8, 3, 4, 5,34, 6, 2, 7]\n",
    "sum2 = 0\n",
    "for i in l2:\n",
    "    sum2 += i\n",
    "print(sum2)"
   ]
  },
  {
   "cell_type": "markdown",
   "id": "7ab71d2b",
   "metadata": {},
   "source": [
    "### Question 3:\n",
    "Write a program to print the characters of a string in reverse order using a `for` loop."
   ]
  },
  {
   "cell_type": "markdown",
   "id": "30bd96da",
   "metadata": {},
   "source": [
    "Explanation :\n",
    "As we have to use for loop to reverse the string, we take an empty string and start concatenating it with characters of original string in reverse order."
   ]
  },
  {
   "cell_type": "code",
   "execution_count": 3,
   "id": "693d45ac",
   "metadata": {},
   "outputs": [
    {
     "name": "stdout",
     "output_type": "stream",
     "text": [
      "Enter a String : Hello World!\n"
     ]
    },
    {
     "data": {
      "text/plain": [
       "'!dlroW olleH'"
      ]
     },
     "execution_count": 3,
     "metadata": {},
     "output_type": "execute_result"
    }
   ],
   "source": [
    "# Taking input string\n",
    "s3 = input('Enter a String : ')\n",
    "s3_rev = ''\n",
    "\n",
    "# Using for loop to concatenate new string with reverse of old string\n",
    "for i in range(len(s3)-1,-1,-1):\n",
    "    s3_rev += s3[i]\n",
    "\n",
    "# Printing reverse string\n",
    "s3_rev"
   ]
  },
  {
   "cell_type": "markdown",
   "id": "bf019c0b",
   "metadata": {},
   "source": [
    "### Question 4:\n",
    "Develop a program that finds the factorial of a given number using a `for` loop."
   ]
  },
  {
   "cell_type": "markdown",
   "id": "cd9e78ce",
   "metadata": {},
   "source": [
    "Explanation : \n",
    "Factorial is a product of an integer and all the posotive integers less than it. So, we use for loop to multiply the interger and the integers less than it."
   ]
  },
  {
   "cell_type": "code",
   "execution_count": 4,
   "id": "bcad06f1",
   "metadata": {},
   "outputs": [
    {
     "name": "stdout",
     "output_type": "stream",
     "text": [
      "Enter a Number : 7\n",
      "Factorial of 7 is 5040\n"
     ]
    }
   ],
   "source": [
    "# Taking input number from user\n",
    "n4 = int(input('Enter a Number : '))\n",
    "fact = 1\n",
    "\n",
    "# Applying condition for zero\n",
    "if n4 == 0:\n",
    "    print('Factorial of '+str(n4)+' is '+str(fact))\n",
    "else:\n",
    "    # Multiplying every integer less than n4 using for loop\n",
    "    for i in range(1,n4+1):\n",
    "        fact *= i\n",
    "    print('Factorial of '+str(n4)+' is '+str(fact))"
   ]
  },
  {
   "cell_type": "markdown",
   "id": "cb66c3f1",
   "metadata": {},
   "source": [
    "### Question 5:\n",
    "Create a program to print the multiplication table of a given number using a `for` loop"
   ]
  },
  {
   "cell_type": "markdown",
   "id": "ef4b9095",
   "metadata": {},
   "source": [
    "Explanation: \n",
    "multiplication table is the multiplication of a number with the numbers ranging from 1-10. So, using for loop and range function we can create the range from 1-10 and multiply each with number. In this way, we get multiplication table"
   ]
  },
  {
   "cell_type": "code",
   "execution_count": 5,
   "id": "187d13b5",
   "metadata": {},
   "outputs": [
    {
     "name": "stdout",
     "output_type": "stream",
     "text": [
      "Enter a Number : 23\n",
      "23 * 1 = 23\n",
      "23 * 2 = 46\n",
      "23 * 3 = 69\n",
      "23 * 4 = 92\n",
      "23 * 5 = 115\n",
      "23 * 6 = 138\n",
      "23 * 7 = 161\n",
      "23 * 8 = 184\n",
      "23 * 9 = 207\n",
      "23 * 10 = 230\n"
     ]
    }
   ],
   "source": [
    "n5 = int(input('Enter a Number : '))\n",
    "for i in range(1,11):\n",
    "    print(f'{n5} * {i} = {n5*i}')"
   ]
  },
  {
   "cell_type": "markdown",
   "id": "06bf7c93",
   "metadata": {},
   "source": [
    "### Question 6:\n",
    "Write a program that counts the number of even and odd numbers in a list using a `for` loop."
   ]
  },
  {
   "cell_type": "markdown",
   "id": "105c68d6",
   "metadata": {},
   "source": [
    "Explanation:\n",
    "To count even and odd numbers we have to differentiate between even and odd. using for loop we iterate through list and differentiate each number as even or odd and then increase even count if even else odd count and finally we print the even and odd counts"
   ]
  },
  {
   "cell_type": "code",
   "execution_count": 6,
   "id": "f5ddfdbb",
   "metadata": {},
   "outputs": [
    {
     "name": "stdout",
     "output_type": "stream",
     "text": [
      "Number of Even Numbers in the List : 6 \n",
      "Number of Odd Numbers in a List : 4\n"
     ]
    }
   ],
   "source": [
    "l6 = [1, 2, 8, 3, 4, 5,34, 6, 2, 7]\n",
    "even = 0\n",
    "odd = 0\n",
    "for i in l6:\n",
    "    if i%2 == 0:\n",
    "        even += 1\n",
    "    else:\n",
    "        odd += 1\n",
    "print('Number of Even Numbers in the List : '+str(even)+' \\nNumber of Odd Numbers in a List : '+str(odd))"
   ]
  },
  {
   "cell_type": "markdown",
   "id": "2aa94428",
   "metadata": {},
   "source": [
    "### Question 7:\n",
    "Develop a program that prints the squares of numbers from 1 to 5 using a `for` loop"
   ]
  },
  {
   "cell_type": "markdown",
   "id": "bef83d14",
   "metadata": {},
   "source": [
    "Explanation:\n",
    "first create range of numbers from 1-5 using for loop and range function. then square each number and print."
   ]
  },
  {
   "cell_type": "code",
   "execution_count": 7,
   "id": "d613188d",
   "metadata": {},
   "outputs": [
    {
     "name": "stdout",
     "output_type": "stream",
     "text": [
      "1\n",
      "4\n",
      "9\n",
      "16\n",
      "25\n"
     ]
    }
   ],
   "source": [
    "for i in range(1,6):\n",
    "    print(i*i)"
   ]
  },
  {
   "cell_type": "markdown",
   "id": "1a65ac23",
   "metadata": {},
   "source": [
    "### Question 8:\n",
    "Create a program to find the length of a string without using the `len()` function."
   ]
  },
  {
   "cell_type": "markdown",
   "id": "1bddebca",
   "metadata": {},
   "source": [
    "Explanation:\n",
    "first initialize count variable with value '0'.then use for loop to iterate over string. after that increase count by 1.finally print the count."
   ]
  },
  {
   "cell_type": "code",
   "execution_count": 8,
   "id": "077cf5d5",
   "metadata": {},
   "outputs": [
    {
     "name": "stdout",
     "output_type": "stream",
     "text": [
      "Enter a String : Hello World!\n",
      "12\n"
     ]
    }
   ],
   "source": [
    "s8 = input('Enter a String : ')\n",
    "count = 0\n",
    "for i in s8:\n",
    "    count += 1\n",
    "print(count)"
   ]
  },
  {
   "cell_type": "markdown",
   "id": "489446a0",
   "metadata": {},
   "source": [
    "### Question 9:\n",
    "Write a program that calculates the average of a list of numbers using a `for` loop"
   ]
  },
  {
   "cell_type": "markdown",
   "id": "16f82ca1",
   "metadata": {},
   "source": [
    "Explanation : \n",
    "first intialize a variable s equal to '0'.then use for loop to iterate over list 'l9'.then add the element of list with 's'. after getting the final value of 's', divide 's' with lenngth of list. In this way we get average of list."
   ]
  },
  {
   "cell_type": "code",
   "execution_count": 9,
   "id": "1dde2b91",
   "metadata": {},
   "outputs": [
    {
     "name": "stdout",
     "output_type": "stream",
     "text": [
      "7.2\n"
     ]
    }
   ],
   "source": [
    "l9 = [1, 2, 8, 3, 4, 5,34, 6, 2, 7]\n",
    "s = 0\n",
    "for i in l9:\n",
    "    s += i\n",
    "avg = s/len(l9)\n",
    "print(avg)"
   ]
  },
  {
   "cell_type": "markdown",
   "id": "b7858a89",
   "metadata": {},
   "source": [
    "### Question 10:\n",
    "Develop a program that prints the first `n` Fibonacci numbers using a `for` loop"
   ]
  },
  {
   "cell_type": "markdown",
   "id": "5d0cbe72",
   "metadata": {},
   "source": [
    "Explanation :\n",
    "fibonacci numbers are addition of previuos two numbers. The first two numbers fo fibonacci series are 0 and 1.So to create the list of fibonacci numbers to a specified length we have to add last two elements of list upto the length of list eqaul to specified number."
   ]
  },
  {
   "cell_type": "code",
   "execution_count": 10,
   "id": "b131fca8",
   "metadata": {},
   "outputs": [
    {
     "name": "stdout",
     "output_type": "stream",
     "text": [
      "Enter a Number : 8\n"
     ]
    },
    {
     "data": {
      "text/plain": [
       "[0, 1, 1, 2, 3, 5, 8, 13]"
      ]
     },
     "execution_count": 10,
     "metadata": {},
     "output_type": "execute_result"
    }
   ],
   "source": [
    "l10 = [0,1]\n",
    "n = int(input('Enter a Number : '))\n",
    "while len(l10)<n:\n",
    "    l10.append(l10[-1]+l10[-2])\n",
    "l10"
   ]
  },
  {
   "cell_type": "markdown",
   "id": "36c5346c",
   "metadata": {},
   "source": [
    "# Level : Intermidiate "
   ]
  },
  {
   "cell_type": "markdown",
   "id": "95734791",
   "metadata": {},
   "source": [
    "### Question 11:\n",
    "Write a program to check if a given list contains any duplicates using a `for` loop."
   ]
  },
  {
   "cell_type": "markdown",
   "id": "887ebe04",
   "metadata": {},
   "source": [
    "Explanation : l11 is given list of integers. for duplicates we need to check the element is equal to further elements of list. so first for loop iterate over l11(i) and then second for loop iterates over elements following the first loops element(i).\n",
    "the if condition check whether the ith element is equal to jth element.if equal then append to list of duplicates. finally check whether the list of duplicates is empty or not. if empty then there are no duplicate elements in original list.else print the list of duplicates."
   ]
  },
  {
   "cell_type": "code",
   "execution_count": 11,
   "id": "18910923",
   "metadata": {},
   "outputs": [
    {
     "name": "stdout",
     "output_type": "stream",
     "text": [
      "Enter the elements to list : 2 4 5 6 8 9 6 2 1 3 4 5 7 8\n",
      "There are Duplicates in List :  [2, 4, 5, 6, 8]\n"
     ]
    }
   ],
   "source": [
    "l11 = list(int(i) for i in input('Enter the elements to list : ').split())\n",
    "l11_dup = []\n",
    "\n",
    "# looping over l11\n",
    "for i in range(len(l11)):\n",
    "    # looping forward to ith element of list\n",
    "    for j in range(i + 1, len(l11)):\n",
    "        # Appending duplicate elements to list of duplicates\n",
    "        if l11[i] == l11[j] and l11[i] not in l11_dup:\n",
    "            l11_dup.append(l11[i])\n",
    "\n",
    "# checking whether list of duplicates is empty or not\n",
    "if len(l11_dup)>=1:\n",
    "    print('There are Duplicates in List : ',l11_dup)\n",
    "else:\n",
    "    print('There are No Duplicates in List')"
   ]
  },
  {
   "cell_type": "markdown",
   "id": "f213dcd7",
   "metadata": {},
   "source": [
    "### Question 12:\n",
    "Create a program that prints the prime numbers in a given range using a `for` loop"
   ]
  },
  {
   "cell_type": "markdown",
   "id": "891d9c78",
   "metadata": {},
   "source": [
    "Expanation : \n",
    "take input range from user. initiate for loop over the range. initiate another for loop from 2 to 'square root of num+1' and check whether any of the integer divides 'num'. if it does then break the loop and move further else print the number"
   ]
  },
  {
   "cell_type": "code",
   "execution_count": 12,
   "id": "0cec2621",
   "metadata": {},
   "outputs": [
    {
     "name": "stdout",
     "output_type": "stream",
     "text": [
      "Enter a range : 50\n",
      "2\n",
      "3\n",
      "5\n",
      "7\n",
      "11\n",
      "13\n",
      "17\n",
      "19\n",
      "23\n",
      "29\n",
      "31\n",
      "37\n",
      "41\n",
      "43\n",
      "47\n"
     ]
    }
   ],
   "source": [
    "n12= int(input('Enter a range : '))\n",
    "for num in range(2, n12 + 1):\n",
    "    if num > 1:\n",
    "        is_prime = True\n",
    "        for i in range(2, int(num ** 0.5) + 1):\n",
    "            if num % i == 0:\n",
    "                is_prime = False\n",
    "                break\n",
    "        if is_prime:\n",
    "            print(num)"
   ]
  },
  {
   "cell_type": "markdown",
   "id": "d29765f8",
   "metadata": {},
   "source": [
    "### Question 13:\n",
    " Develop a program that counts the number of vowels in a string using a `for` loop."
   ]
  },
  {
   "cell_type": "markdown",
   "id": "79e83e85",
   "metadata": {},
   "source": [
    "Explanation :\n",
    "Vowels are a,e,i,o,u. so, to check the vowels in a string we count the number of times the character equal to any of the vowels.\n",
    "the final count is the number of vowels in the string."
   ]
  },
  {
   "cell_type": "code",
   "execution_count": 13,
   "id": "90dc585e",
   "metadata": {},
   "outputs": [
    {
     "name": "stdout",
     "output_type": "stream",
     "text": [
      "Enter a String : Hello World!\n",
      "3\n"
     ]
    }
   ],
   "source": [
    "s13 = input('Enter a String : ')\n",
    "count = 0\n",
    "\n",
    "# Initialize the for loop\n",
    "for i in s13:\n",
    "    # Check if the i is in a,e,i,o,u \n",
    "    if i in ['a','e','i','o','u']:\n",
    "        count += 1\n",
    "print(count)"
   ]
  },
  {
   "cell_type": "markdown",
   "id": "6d572b7b",
   "metadata": {},
   "source": [
    "### Question 14:\n",
    "Write a program to find the maximum element in a 2D list using a nested `for` loop"
   ]
  },
  {
   "cell_type": "markdown",
   "id": "2e4cd00c",
   "metadata": {},
   "source": [
    "Explanation : \n",
    "first, we initialize 0,0 element as max element. then we initialize two for loops 'i' for row and 'j' for column. after that we check every i,j th element with max14 if j is max than max14 then equate j as max14. Hence, we get the maximum of 2D list."
   ]
  },
  {
   "cell_type": "code",
   "execution_count": 14,
   "id": "d9f4aabe",
   "metadata": {},
   "outputs": [
    {
     "data": {
      "text/plain": [
       "6"
      ]
     },
     "execution_count": 14,
     "metadata": {},
     "output_type": "execute_result"
    }
   ],
   "source": [
    "l14 = [[1, 2, 3], [4, 5, 6]]\n",
    "max14 = l14[0][0]\n",
    "for i in l14:\n",
    "    for j in i:\n",
    "        if j>max14:\n",
    "            max14 = j\n",
    "max14"
   ]
  },
  {
   "cell_type": "markdown",
   "id": "dc7260a7",
   "metadata": {},
   "source": [
    "### Question 15:\n",
    "Create a program that removes all occurrences of a specific element from a list using a `for` loop"
   ]
  },
  {
   "cell_type": "markdown",
   "id": "a837a6fe",
   "metadata": {},
   "source": [
    "Explanation : \n",
    "with remove function of list we can remove a certain element of list. so, by using for loop we iterate over the list and remove if present in list."
   ]
  },
  {
   "cell_type": "code",
   "execution_count": 15,
   "id": "5566de61",
   "metadata": {},
   "outputs": [
    {
     "name": "stdout",
     "output_type": "stream",
     "text": [
      "Enter the element : 2\n",
      "The final list after removal of 2 : [1, 8, 3, 4, 5, 34, 6, 7]\n"
     ]
    }
   ],
   "source": [
    "l15 = [1, 2, 8, 3, 4, 5,34, 6, 2, 7]\n",
    "n = input('Enter the element : ')\n",
    "\n",
    "# Iterating over list\n",
    "for i in l15:\n",
    "    if str(i) == n:\n",
    "        # removeing the element if present\n",
    "        l15.remove(i)\n",
    "print(f'The final list after removal of {n} : {l15}')"
   ]
  },
  {
   "cell_type": "markdown",
   "id": "c3b2abd2",
   "metadata": {},
   "source": [
    "### Question 16:\n",
    "Develop a program that generates a multiplication table for numbers from 1 to 5 using a nested `for` loop"
   ]
  },
  {
   "cell_type": "markdown",
   "id": "644e2a48",
   "metadata": {},
   "source": [
    "Explanation : \n",
    "to print multiplication table of 1-5 we need two for loops. one to generate range of 1-10 and other  to generate range of 1-5.and then multiply and print the result."
   ]
  },
  {
   "cell_type": "code",
   "execution_count": 16,
   "id": "f98d7a0e",
   "metadata": {},
   "outputs": [
    {
     "name": "stdout",
     "output_type": "stream",
     "text": [
      "1 2 3 4 5 \n",
      "2 4 6 8 10 \n",
      "3 6 9 12 15 \n",
      "4 8 12 16 20 \n",
      "5 10 15 20 25 \n",
      "6 12 18 24 30 \n",
      "7 14 21 28 35 \n",
      "8 16 24 32 40 \n",
      "9 18 27 36 45 \n",
      "10 20 30 40 50 \n"
     ]
    }
   ],
   "source": [
    "# For loop for 1-10 numbers\n",
    "for i in range(1,11):\n",
    "    # for loop for 1-5 numbers\n",
    "    for j in range(1,6):\n",
    "        # The multipication table\n",
    "        print(i*j,end = ' ')\n",
    "    print()"
   ]
  },
  {
   "cell_type": "markdown",
   "id": "2a22d243",
   "metadata": {},
   "source": [
    "### Question 17:\n",
    " Write a program that converts a list of Fahrenheit temperatures to Celsius using a `for` loop."
   ]
  },
  {
   "cell_type": "markdown",
   "id": "72339d78",
   "metadata": {},
   "source": [
    "Explanation : \n",
    "list of farhenheit is given. to find the celcius temp. we have to apply the formula xcelc = (xfahr-32)*(5/9). By using for loop iterate over the list and apply this formula to every element of list."
   ]
  },
  {
   "cell_type": "code",
   "execution_count": 17,
   "id": "5337cf34",
   "metadata": {},
   "outputs": [
    {
     "data": {
      "text/plain": [
       "[37.77777777777778,\n",
       " -1.6666666666666667,\n",
       " 29.444444444444446,\n",
       " 1.6666666666666667,\n",
       " 8.88888888888889,\n",
       " 11.11111111111111,\n",
       " 171.11111111111111,\n",
       " 19.444444444444446,\n",
       " 93.33333333333334,\n",
       " 26.11111111111111]"
      ]
     },
     "execution_count": 17,
     "metadata": {},
     "output_type": "execute_result"
    }
   ],
   "source": [
    "l17_far = [100, 29, 85, 35, 48, 52,340, 67, 200, 79]\n",
    "l17_cel = []\n",
    "for i in l17_far:\n",
    "    l17_cel.append((i-32)*(5/9))\n",
    "l17_cel"
   ]
  },
  {
   "cell_type": "markdown",
   "id": "01ff5d74",
   "metadata": {},
   "source": [
    "### Question 18:\n",
    "Create a program to print the common elements from two lists using a `for` loop."
   ]
  },
  {
   "cell_type": "markdown",
   "id": "e80476e6",
   "metadata": {},
   "source": [
    "Explanation :\n",
    "to check the common elements we apply equal condition to elements of two lists. if the condition is satisfied then add element to common set. we can use either list or set or tuple. But set avoids the duplicates. Hence we use set. Finally print the common set."
   ]
  },
  {
   "cell_type": "code",
   "execution_count": 18,
   "id": "e181c57f",
   "metadata": {},
   "outputs": [
    {
     "data": {
      "text/plain": [
       "{1, 2, 3, 4, 5, 6, 7, 8}"
      ]
     },
     "execution_count": 18,
     "metadata": {},
     "output_type": "execute_result"
    }
   ],
   "source": [
    "l18_first = [1, 2, 8, 3, 4, 5,34, 6, 7]\n",
    "l18_second = [1, 2, 3, 4, 5, 6, 7, 8, 9, 10]\n",
    "l18_common = set()\n",
    "for i in l18_first:\n",
    "    for j in l18_second:\n",
    "        if i == j:\n",
    "            l18_common.add(i)\n",
    "l18_common"
   ]
  },
  {
   "cell_type": "markdown",
   "id": "ffa534c3",
   "metadata": {},
   "source": [
    "### Question 19:\n",
    "Develop a program that prints the pattern of right-angled triangles using a `for` loop. Use ‘*’ to draw the \n",
    "pattern"
   ]
  },
  {
   "cell_type": "markdown",
   "id": "c15549c2",
   "metadata": {},
   "source": [
    "Explanation :\n",
    "The right angle triangle pattern is increasing order of number of ‘*’. here input is size of pattern. the first for loop is for rows and second is for columns. we print ‘*’ for every i*j th term"
   ]
  },
  {
   "cell_type": "code",
   "execution_count": 19,
   "id": "4887da1a",
   "metadata": {},
   "outputs": [
    {
     "name": "stdout",
     "output_type": "stream",
     "text": [
      "Enter Length of pattern : 6\n",
      "\n",
      "* \n",
      "* * \n",
      "* * * \n",
      "* * * * \n",
      "* * * * * \n"
     ]
    }
   ],
   "source": [
    "n = int(input('Enter Length of pattern : '))\n",
    "for i in range(n):\n",
    "    for j in range(i):\n",
    "        print('*',end = ' ')\n",
    "    print()"
   ]
  },
  {
   "cell_type": "markdown",
   "id": "a31a53b1",
   "metadata": {},
   "source": [
    "### Question 20: \n",
    "Write a program to find the greatest common divisor (GCD) of two numbers using a `for` loop"
   ]
  },
  {
   "cell_type": "markdown",
   "id": "acfc4629",
   "metadata": {},
   "source": [
    "Explanation : \n",
    "GCD is a greatest number which divides both the numbers.so, It should be less than or equal to smaller number.Hence, we check for largest number in the range 1 to smaller number and print the number."
   ]
  },
  {
   "cell_type": "code",
   "execution_count": 20,
   "id": "6cbb76f4",
   "metadata": {},
   "outputs": [
    {
     "name": "stdout",
     "output_type": "stream",
     "text": [
      "Enter first Number : 16\n",
      "Enter Second Number : 18\n",
      "GCD of Two Numbers is 2\n"
     ]
    }
   ],
   "source": [
    "n20_first = int(input('Enter first Number : '))\n",
    "n20_second = int(input('Enter Second Number : '))\n",
    "gcd = 1\n",
    "\n",
    "# Checking for smallest of the two\n",
    "if n20_first <n20_second :\n",
    "    smaller = n20_first\n",
    "else: \n",
    "    smaller = n20_second\n",
    "\n",
    "# Applying for loop over range of 1 to smaller number    \n",
    "for i in range(1,smaller+1):\n",
    "    if n20_first%i == 0 and n20_second%i == 0:\n",
    "        gcd = i\n",
    "print('GCD of Two Numbers is '+ str(gcd))"
   ]
  },
  {
   "cell_type": "markdown",
   "id": "645aff53",
   "metadata": {},
   "source": [
    "# Level : Advance"
   ]
  },
  {
   "cell_type": "markdown",
   "id": "0d6a8dd1",
   "metadata": {},
   "source": [
    "### Question 21:\n",
    "Create a program that calculates the sum of the digits of numbers in a list using a list comprehension."
   ]
  },
  {
   "cell_type": "markdown",
   "id": "c2b769e0",
   "metadata": {},
   "source": [
    "Explanation : \n",
    "To calculate sum of digits we first convert the numbers into string and then iterate over the number to get digits and then convert back to integers and add them with 's'. Finally, 's' will be the result."
   ]
  },
  {
   "cell_type": "code",
   "execution_count": 21,
   "id": "19963a2c",
   "metadata": {},
   "outputs": [
    {
     "data": {
      "text/plain": [
       "90"
      ]
     },
     "execution_count": 21,
     "metadata": {},
     "output_type": "execute_result"
    }
   ],
   "source": [
    "l21 = [100, 29, 85, 35, 48, 52,340, 67, 200, 79]\n",
    "s = 0\n",
    "for i in l21:\n",
    "    for j in str(i):\n",
    "        s += int(j)\n",
    "s"
   ]
  },
  {
   "cell_type": "markdown",
   "id": "85f9e2ee",
   "metadata": {},
   "source": [
    "### Question 22:\n",
    "Write a program to find the prime factors of a given number using a `for` loop and list comprehension."
   ]
  },
  {
   "cell_type": "markdown",
   "id": "7383272d",
   "metadata": {},
   "source": [
    "Explanation :\n",
    "To find the prime factors first check for the factors of number(n22) then chek whether the factor is prime or not. if the factors are prime add to list else ignore. Finally, print the list"
   ]
  },
  {
   "cell_type": "code",
   "execution_count": 22,
   "id": "39253a57",
   "metadata": {},
   "outputs": [
    {
     "name": "stdout",
     "output_type": "stream",
     "text": [
      "Enter a Number : 108\n"
     ]
    },
    {
     "data": {
      "text/plain": [
       "[2, 3]"
      ]
     },
     "execution_count": 22,
     "metadata": {},
     "output_type": "execute_result"
    }
   ],
   "source": [
    "n22 = int(input('Enter a Number : '))\n",
    "factors = [f for f in range(2, n22 + 1) if n22 % f == 0 and all(f % i != 0 for i in range(2, int(f**0.5) + 1))]\n",
    "factors"
   ]
  },
  {
   "cell_type": "markdown",
   "id": "6a657e7c",
   "metadata": {},
   "source": [
    "### Question 23:\n",
    "Develop a program that extracts unique elements from a list and stores them in a new list using a list \n",
    "comprehension."
   ]
  },
  {
   "cell_type": "markdown",
   "id": "082cc785",
   "metadata": {},
   "source": [
    "Explanation :\n",
    "start appending the elements of list to new list if the element is alread present then do not append the element. Finally, print the new list."
   ]
  },
  {
   "cell_type": "code",
   "execution_count": 23,
   "id": "bdb7adb1",
   "metadata": {},
   "outputs": [
    {
     "data": {
      "text/plain": [
       "[1, 2, 8, 3, 4, 5, 34, 6, 7]"
      ]
     },
     "execution_count": 23,
     "metadata": {},
     "output_type": "execute_result"
    }
   ],
   "source": [
    "l23 = [1, 2, 8, 3, 4, 5,34, 6, 2, 7]\n",
    "l23_new = []\n",
    "[l23_new.append(x) for x in l23 if x not in l23_new ]\n",
    "l23_new"
   ]
  },
  {
   "cell_type": "markdown",
   "id": "aa3676b1",
   "metadata": {},
   "source": [
    "### Question 24:\n",
    "Create a program that generates a list of all palindromic numbers up to a specified limit using a list \n",
    "comprehension."
   ]
  },
  {
   "cell_type": "markdown",
   "id": "d1effe01",
   "metadata": {},
   "source": [
    "Explanation :\n",
    "palindromic numbers are numbers which are same from front and back like 121, 232 etc. So, to check for palindromic numbers we need to generate the range of numbers upto the limit then convert it to string and check if the reverse of number is equal to the number or not. if equal then palindrome and if palindrome then print."
   ]
  },
  {
   "cell_type": "code",
   "execution_count": 24,
   "id": "2de0cfea",
   "metadata": {},
   "outputs": [
    {
     "name": "stdout",
     "output_type": "stream",
     "text": [
      "Enter the limit : 200\n"
     ]
    },
    {
     "data": {
      "text/plain": [
       "[1,\n",
       " 2,\n",
       " 3,\n",
       " 4,\n",
       " 5,\n",
       " 6,\n",
       " 7,\n",
       " 8,\n",
       " 9,\n",
       " 11,\n",
       " 22,\n",
       " 33,\n",
       " 44,\n",
       " 55,\n",
       " 66,\n",
       " 77,\n",
       " 88,\n",
       " 99,\n",
       " 101,\n",
       " 111,\n",
       " 121,\n",
       " 131,\n",
       " 141,\n",
       " 151,\n",
       " 161,\n",
       " 171,\n",
       " 181,\n",
       " 191]"
      ]
     },
     "execution_count": 24,
     "metadata": {},
     "output_type": "execute_result"
    }
   ],
   "source": [
    "limit = int(input('Enter the limit : '))\n",
    "l24 = [x for x in range(1,limit+1) if str(x) == str(x)[::-1]]\n",
    "l24"
   ]
  },
  {
   "cell_type": "markdown",
   "id": "6c697669",
   "metadata": {},
   "source": [
    "### Question 25:\n",
    "Write a program to flatten a nested list using list comprehension."
   ]
  },
  {
   "cell_type": "markdown",
   "id": "9549a7f2",
   "metadata": {},
   "source": [
    "Explanation : \n",
    "to flatten the nested list we used the extend and remove functions of list. we iterated over the list and checked if element in list is list or number if list then we extended the list with nested list and removed nested list."
   ]
  },
  {
   "cell_type": "code",
   "execution_count": 25,
   "id": "b7b4df9a",
   "metadata": {},
   "outputs": [
    {
     "data": {
      "text/plain": [
       "[1, 2, 5, 34, 6, 7, 8, 3, 4]"
      ]
     },
     "execution_count": 25,
     "metadata": {},
     "output_type": "execute_result"
    }
   ],
   "source": [
    "l25 = [1, 2, [8, 3, 4], 5, 34, 6, 7]\n",
    "[l25.extend(x) for x in l25 if type(x) == list]\n",
    "[l25.remove(x) for x in l25 if type(x) == list]\n",
    "l25"
   ]
  },
  {
   "cell_type": "markdown",
   "id": "bc2b2a63",
   "metadata": {},
   "source": [
    "### Question 26:\n",
    "Develop a program that computes the sum of even and odd numbers in a list separately using list \n",
    "comprehension."
   ]
  },
  {
   "cell_type": "markdown",
   "id": "4e37f059",
   "metadata": {},
   "source": [
    "Explanation:\n",
    "first create a list of even and odd numbers seperately then use sum function to calculate the sum or we can iterate over the list and add to seperate even_sum and odd_sum variable. Both conditions are possible"
   ]
  },
  {
   "cell_type": "code",
   "execution_count": 26,
   "id": "c0045f7e",
   "metadata": {},
   "outputs": [
    {
     "name": "stdout",
     "output_type": "stream",
     "text": [
      "The sum of even numbers is 56 and the sum of odd numbers is 16\n"
     ]
    }
   ],
   "source": [
    "l26 = [1, 2, 8, 3, 4, 5,34, 6, 2, 7]\n",
    "even = sum([i for i in l26 if i%2 == 0])\n",
    "odd = sum([i for i in l26 if i%2 != 0])\n",
    "print(f'The sum of even numbers is {even} and the sum of odd numbers is {odd}')"
   ]
  },
  {
   "cell_type": "markdown",
   "id": "9ff43cd2",
   "metadata": {},
   "source": [
    "### Question 27:\n",
    "Create a program that generates a list of squares of odd numbers between 1 and 10 using list \n",
    "comprehension."
   ]
  },
  {
   "cell_type": "markdown",
   "id": "6d89b72a",
   "metadata": {},
   "source": [
    "Expalantion : \n",
    "generate range of numbers with padding 2 starting from 1 to 10. these are odd numbers or we can use basic code to check even or odd. after getting the range square every number in range and print the list."
   ]
  },
  {
   "cell_type": "code",
   "execution_count": 27,
   "id": "c32f60f0",
   "metadata": {},
   "outputs": [
    {
     "data": {
      "text/plain": [
       "[1, 9, 25, 49, 81]"
      ]
     },
     "execution_count": 27,
     "metadata": {},
     "output_type": "execute_result"
    }
   ],
   "source": [
    "[x**2 for x in range(1,10,2)]"
   ]
  },
  {
   "cell_type": "markdown",
   "id": "f01578a4",
   "metadata": {},
   "source": [
    "### Question 28:\n",
    "Write a program that combines two lists into a dictionary using list comprehension"
   ]
  },
  {
   "cell_type": "markdown",
   "id": "e726b886",
   "metadata": {},
   "source": [
    "Explanation: we are provided with two list. one is used as key list and other as value list. so using dictionary comprehension we can create a dictionary s28_dict in which we take keys from s28_key and assign values from s28_values. "
   ]
  },
  {
   "cell_type": "code",
   "execution_count": 28,
   "id": "0573dfcd",
   "metadata": {},
   "outputs": [
    {
     "data": {
      "text/plain": [
       "{'name': 'Shantanu', 'age': 27, 'city': 'Hingoli'}"
      ]
     },
     "execution_count": 28,
     "metadata": {},
     "output_type": "execute_result"
    }
   ],
   "source": [
    "s28_keys = [\"name\", \"age\", \"city\"]\n",
    "s28_values = [\"Shantanu\", 27, \"Hingoli\"]\n",
    "\n",
    "s28_dict = {s28_keys[i]: s28_values[i] for i in range(len(s28_keys))}\n",
    "s28_dict"
   ]
  },
  {
   "cell_type": "markdown",
   "id": "842f6ee3",
   "metadata": {},
   "source": [
    "### Question 29:\n",
    "Develop a program that extracts the vowels from a string and stores them in a list using list comprehension."
   ]
  },
  {
   "cell_type": "markdown",
   "id": "e2d15ac4",
   "metadata": {},
   "source": [
    "Explanation : \n",
    "using list comprehension we can iterate over each letter of string 's29' and compare if its present in vowels list. if present then print."
   ]
  },
  {
   "cell_type": "code",
   "execution_count": 29,
   "id": "d0f426fb",
   "metadata": {},
   "outputs": [
    {
     "name": "stdout",
     "output_type": "stream",
     "text": [
      "enter a string : Hello Wolrd! Welcome to Python Programming\n"
     ]
    },
    {
     "data": {
      "text/plain": [
       "['e', 'o', 'o', 'e', 'o', 'e', 'o', 'o', 'o', 'a', 'i']"
      ]
     },
     "execution_count": 29,
     "metadata": {},
     "output_type": "execute_result"
    }
   ],
   "source": [
    "s29 = input('enter a string : ')\n",
    "[x for x in s29 if x in ['a','e','i','o','u']]"
   ]
  },
  {
   "cell_type": "markdown",
   "id": "3ad68fd9",
   "metadata": {},
   "source": [
    "### Question 30:\n",
    "Create a program that removes all non-numeric characters from a list of strings using list comprehension"
   ]
  },
  {
   "cell_type": "markdown",
   "id": "7ec1a515",
   "metadata": {},
   "source": [
    "Explanation : \n",
    "we iterate over every element of list and then again iterate over the string if element of string is digit then join and add to list else ignore."
   ]
  },
  {
   "cell_type": "code",
   "execution_count": 30,
   "id": "fc0a1921",
   "metadata": {},
   "outputs": [
    {
     "data": {
      "text/plain": [
       "['123', '456', '789']"
      ]
     },
     "execution_count": 30,
     "metadata": {},
     "output_type": "execute_result"
    }
   ],
   "source": [
    "l30 = [\"shant123\", \"sudh456\", \"pwsk789\"]\n",
    "[''.join(x for x in i if x.isdigit()) for i in l30  ]"
   ]
  },
  {
   "cell_type": "markdown",
   "id": "2097c22f",
   "metadata": {},
   "source": [
    "# Level : Challenge"
   ]
  },
  {
   "cell_type": "markdown",
   "id": "df236876",
   "metadata": {},
   "source": [
    "### Question 31:\n",
    "Write a program to generate a list of prime numbers using the Sieve of Eratosthenes algorithm and list \n",
    "comprehension."
   ]
  },
  {
   "cell_type": "markdown",
   "id": "3b261ecd",
   "metadata": {},
   "source": [
    "Explanation : \n",
    "In Sieve of Eratosthenes algorithm the range of numbers is first searched in multiples of 2 and highlighted. then in multiples of 3 and highlighted and further more prime numbers upto range equal to square root of the given highest limit number. The numbers which are not highlighted by the multiples of prime numbers are then printed."
   ]
  },
  {
   "cell_type": "code",
   "execution_count": 31,
   "id": "610c97aa",
   "metadata": {},
   "outputs": [
    {
     "name": "stdout",
     "output_type": "stream",
     "text": [
      "Enter a number upto which prime numbers are to be searched : 50\n",
      "[2, 3, 5, 7, 11, 13, 17, 19, 23, 29, 31, 37, 41, 43, 47]\n"
     ]
    }
   ],
   "source": [
    "n31 = int(input('Enter a number upto which prime numbers are to be searched : '))\n",
    "is_prime = [True] * (n31 + 1)\n",
    "is_prime[0] = is_prime[1] = False  \n",
    "\n",
    "for p in range(2, int(n31**0.5) + 1):\n",
    "    if is_prime[p]:\n",
    "        for i in range(p * p, n31 + 1, p):\n",
    "            is_prime[i] = False\n",
    "\n",
    "prime_numbers = [p for p in range(2, n31 + 1) if is_prime[p]]\n",
    "\n",
    "print(prime_numbers)"
   ]
  },
  {
   "cell_type": "markdown",
   "id": "5fcc6507",
   "metadata": {},
   "source": [
    "### Question 32:\n",
    "Create a program that generates a list of all Pythagorean triplets up to a specified limit using list \n",
    "comprehension."
   ]
  },
  {
   "cell_type": "markdown",
   "id": "a10dbd3c",
   "metadata": {},
   "source": [
    "Explanation : Pythagorean triplates are those numbers in which square of first number plus square of second number equals square of third number. So, for this program requirement is we need max limit and then we check which three numbers satisfy the condition."
   ]
  },
  {
   "cell_type": "code",
   "execution_count": 32,
   "id": "cd2b0602",
   "metadata": {},
   "outputs": [
    {
     "name": "stdout",
     "output_type": "stream",
     "text": [
      "Enter maximum limit : 25\n"
     ]
    },
    {
     "data": {
      "text/plain": [
       "[(3, 4, 5),\n",
       " (5, 12, 13),\n",
       " (6, 8, 10),\n",
       " (7, 24, 25),\n",
       " (8, 15, 17),\n",
       " (9, 12, 15),\n",
       " (12, 16, 20),\n",
       " (15, 20, 25)]"
      ]
     },
     "execution_count": 32,
     "metadata": {},
     "output_type": "execute_result"
    }
   ],
   "source": [
    "n32 = int(input('Enter maximum limit : '))\n",
    "[(a,b,c) for a in range(1,n32+1) for b in range(a,n32+1) for c in range(b,n32+1) if (a**2 + b**2) == c**2]"
   ]
  },
  {
   "cell_type": "markdown",
   "id": "40fc24bf",
   "metadata": {},
   "source": [
    "### Question 33:\n",
    " Develop a program that generates a list of all possible combinations of two lists using list comprehension."
   ]
  },
  {
   "cell_type": "markdown",
   "id": "b0944fd5",
   "metadata": {},
   "source": [
    "Explanation : \n",
    "A simple program required two list and then add tuple of two elements containing element from first list and second list. print the list of such tuples."
   ]
  },
  {
   "cell_type": "code",
   "execution_count": 33,
   "id": "88ba2110",
   "metadata": {},
   "outputs": [
    {
     "data": {
      "text/plain": [
       "[(1, 'a'),\n",
       " (1, 'b'),\n",
       " (1, 'c'),\n",
       " (2, 'a'),\n",
       " (2, 'b'),\n",
       " (2, 'c'),\n",
       " (3, 'a'),\n",
       " (3, 'b'),\n",
       " (3, 'c')]"
      ]
     },
     "execution_count": 33,
     "metadata": {},
     "output_type": "execute_result"
    }
   ],
   "source": [
    "l33_frst = [1,2,3]\n",
    "l33_scnd = ['a','b','c']\n",
    "[(i,j) for i in l33_frst for j in l33_scnd]"
   ]
  },
  {
   "cell_type": "markdown",
   "id": "39dfa6e4",
   "metadata": {},
   "source": [
    "### Question 34:\n",
    "Write a program that calculates the mean, median, and mode of a list of numbers using list \n",
    "comprehension."
   ]
  },
  {
   "cell_type": "markdown",
   "id": "a3dd59d7",
   "metadata": {},
   "source": [
    "Explanation :\n",
    "In this program we created three diferent function to find mean, median and mode. To calculate median and mode we used list comprehension. Finally, we added these three functions to a combine function called mean_median_mode() and called for the list l_34"
   ]
  },
  {
   "cell_type": "code",
   "execution_count": 34,
   "id": "72c8e133",
   "metadata": {},
   "outputs": [],
   "source": [
    "def mean_lst(lst):\n",
    "    return sum(lst)/len(lst)\n",
    "\n",
    "def median_lst(lst):\n",
    "    lst_sort = sorted(lst)\n",
    "    l = len(lst)\n",
    "    return [(lst_sort[l//2] + lst_sort[(l//2)+1])/2 if l%2 == 0 else lst_sort[l//2] ]\n",
    "\n",
    "def mode_lst(lst):\n",
    "    d = {}\n",
    "    for i in lst:\n",
    "        if i not in d:\n",
    "            d[i] = 1\n",
    "        else:\n",
    "            d[i] += 1\n",
    "    return [k for k,v in d.items() if v == max(d.values())]\n",
    "def mean_median_mode(lst):\n",
    "    mean = mean_lst(lst)\n",
    "    median = median_lst(lst)\n",
    "    mode = mode_lst(lst)\n",
    "    return mean, median, mode"
   ]
  },
  {
   "cell_type": "code",
   "execution_count": 35,
   "id": "184be299",
   "metadata": {},
   "outputs": [
    {
     "data": {
      "text/plain": [
       "(7.2, [5.5], [2])"
      ]
     },
     "execution_count": 35,
     "metadata": {},
     "output_type": "execute_result"
    }
   ],
   "source": [
    "l_34 = [1, 2, 8, 3, 4, 5,34, 6, 2, 7]\n",
    "mean_median_mode(l_34)"
   ]
  },
  {
   "cell_type": "markdown",
   "id": "4c4c2ab3",
   "metadata": {},
   "source": [
    "### Question 35:\n",
    "Create a program that generates Pascal's triangle up to a specified number of rows using list \n",
    "comprehension"
   ]
  },
  {
   "cell_type": "markdown",
   "id": "18c2ad38",
   "metadata": {},
   "source": [
    "Explanation:\n",
    "Take a number of rows to be printed, lets assume it to be n35\n",
    "create a for loop in range(n35). Adjust spaces with n35-i fro each space"
   ]
  },
  {
   "cell_type": "code",
   "execution_count": 6,
   "id": "0dda7175",
   "metadata": {},
   "outputs": [
    {
     "name": "stdout",
     "output_type": "stream",
     "text": [
      "Enter number of rows:5\n",
      "     1\n",
      "    1 1\n",
      "   1 2 1\n",
      "  1 3 3 1\n",
      " 1 4 6 4 1\n"
     ]
    }
   ],
   "source": [
    "n35 = int(input('Enter number of rows:'))\n",
    "for i in range(n35):\n",
    "    # adjust space\n",
    "    print(' '*(n35-i), end='')\n",
    " \n",
    "    # compute power of 11\n",
    "    print(' '.join(map(str, str(11**i))))"
   ]
  },
  {
   "cell_type": "code",
   "execution_count": null,
   "id": "80bd1e76",
   "metadata": {},
   "outputs": [],
   "source": [
    "[]"
   ]
  },
  {
   "cell_type": "markdown",
   "id": "c3b9eb25",
   "metadata": {},
   "source": [
    "### Question 36:\n",
    "Develop a program that calculates the sum of the digits of a factorial of numbers from 1 to 5 using list \n",
    "comprehension"
   ]
  },
  {
   "cell_type": "markdown",
   "id": "bbcf9993",
   "metadata": {},
   "source": [
    "Explanation :\n",
    "First create a list of factorial of numbers from 1 to 5. one the logic is that multiply last element with new index element. After getting the list convert each element to string and then iterate over string and convert each iterated element to int and add and append the sum to list using list comprehension."
   ]
  },
  {
   "cell_type": "code",
   "execution_count": 36,
   "id": "08a26fd8",
   "metadata": {},
   "outputs": [
    {
     "data": {
      "text/plain": [
       "[1, 2, 6, 6, 3]"
      ]
     },
     "execution_count": 36,
     "metadata": {},
     "output_type": "execute_result"
    }
   ],
   "source": [
    "fact = [1,2]\n",
    "for i in range(3,6):\n",
    "    fact.append(fact[-1]*i)\n",
    "[sum(int(d) for d in str(i)) for i in fact]"
   ]
  },
  {
   "cell_type": "markdown",
   "id": "387e8c1e",
   "metadata": {},
   "source": [
    "### Question 37:\n",
    "Write a program that finds the longest word in a sentence using list comprehension."
   ]
  },
  {
   "cell_type": "markdown",
   "id": "29ed896d",
   "metadata": {},
   "source": [
    "Explanation : \n",
    "Iterate over the list and compare length of each element and return the maximum length."
   ]
  },
  {
   "cell_type": "code",
   "execution_count": 37,
   "id": "4cf2cd5c",
   "metadata": {},
   "outputs": [
    {
     "name": "stdout",
     "output_type": "stream",
     "text": [
      "Enter the sentence : Hello World! Welcome to python programming\n"
     ]
    },
    {
     "data": {
      "text/plain": [
       "['programming']"
      ]
     },
     "execution_count": 37,
     "metadata": {},
     "output_type": "execute_result"
    }
   ],
   "source": [
    "s37 = input('Enter the sentence : ')\n",
    "l37 = s37.split()\n",
    "[i for i in l37 if len(i) == max(map(len,l37))]"
   ]
  },
  {
   "cell_type": "markdown",
   "id": "37f9f914",
   "metadata": {},
   "source": [
    "### Question 38:\n",
    "Create a program that filters a list of strings to include only those with more than three vowels using list \n",
    "comprehension."
   ]
  },
  {
   "cell_type": "markdown",
   "id": "ad664dc8",
   "metadata": {},
   "source": [
    "Explanation : \n",
    "We create a function to check whether the string has more than 3 vowels or not. First take 'count' variable to count the vowels. then start a loop which checks the vowels present in string. If present increase count by one. If the count is more than 3 then return 'True' else 'False'. After creating the function use list comprehension to iterate over l38. Hence, we get the result"
   ]
  },
  {
   "cell_type": "code",
   "execution_count": 38,
   "id": "2c0b5771",
   "metadata": {},
   "outputs": [
    {
     "data": {
      "text/plain": [
       "['everyone']"
      ]
     },
     "execution_count": 38,
     "metadata": {},
     "output_type": "execute_result"
    }
   ],
   "source": [
    "l38 = ['pwskills','hello','everyone']\n",
    "def vowel_count(s):\n",
    "    count = 0\n",
    "    for i in s:\n",
    "        if i.lower() in 'aeiou':\n",
    "            count += 1\n",
    "    if count >=3:\n",
    "        return True\n",
    "    else:\n",
    "        return False\n",
    "[i for i in l38 if vowel_count(i)]"
   ]
  },
  {
   "cell_type": "markdown",
   "id": "b24f5ff5",
   "metadata": {},
   "source": [
    "### Question 39:\n",
    "Develop a program that calculates the sum of the digits of numbers from 1 to 1000 using list \n",
    "comprehension."
   ]
  },
  {
   "cell_type": "markdown",
   "id": "b015878a",
   "metadata": {},
   "source": [
    "Explanation : \n",
    "Using list comprehension, convert each number in range(1,1001) to string then iterate over the str number and convert back to integer and add then use sum function on list 'sum39'"
   ]
  },
  {
   "cell_type": "code",
   "execution_count": 39,
   "id": "8253d583",
   "metadata": {},
   "outputs": [
    {
     "data": {
      "text/plain": [
       "13501"
      ]
     },
     "execution_count": 39,
     "metadata": {},
     "output_type": "execute_result"
    }
   ],
   "source": [
    "sum39 = [sum(int(d) for d in str(i)) for i in range(1,1001)]\n",
    "sum(sum39)"
   ]
  },
  {
   "cell_type": "markdown",
   "id": "eb06c6b7",
   "metadata": {},
   "source": [
    "### Question 40:\n",
    "Write a program that generates a list of prime palindromic numbers using list comprehension"
   ]
  },
  {
   "cell_type": "markdown",
   "id": "2a206436",
   "metadata": {},
   "source": [
    "Explanation :\n",
    "To get the list of prime palindrome numbers first create a list of prime numbers. For that, we create a range from 2 to upper limit +1. Again we initiate a for loop over a range 2 to square root of upper limit +1. now we divide num with i to check prime number or not. if prime append to list. After getting the list of prime numbers then check if the prime number is palindrome or not. Using list comprehension iterate over list, convert element to string and compare with reverse of element if equal then append to list else not."
   ]
  },
  {
   "cell_type": "code",
   "execution_count": 40,
   "id": "1d812663",
   "metadata": {},
   "outputs": [
    {
     "name": "stdout",
     "output_type": "stream",
     "text": [
      "Enter upper limit of the range : 200\n"
     ]
    },
    {
     "data": {
      "text/plain": [
       "[2, 3, 5, 7, 11, 101, 131, 151, 181, 191]"
      ]
     },
     "execution_count": 40,
     "metadata": {},
     "output_type": "execute_result"
    }
   ],
   "source": [
    "n40 = int(input('Enter upper limit of the range : '))\n",
    "l40 = []\n",
    "for num in range(2, n40 + 1):\n",
    "    is_prime = True\n",
    "    for i in range(2, int(num ** 0.5) + 1):\n",
    "        if num % i == 0:\n",
    "            is_prime = False\n",
    "            break\n",
    "    if is_prime:\n",
    "        l40.append(num)\n",
    "[i for i in l40 if str(i) == str(i)[::-1]]"
   ]
  },
  {
   "cell_type": "code",
   "execution_count": null,
   "id": "1cf0aa6e",
   "metadata": {},
   "outputs": [],
   "source": []
  }
 ],
 "metadata": {
  "kernelspec": {
   "display_name": "Python 3 (ipykernel)",
   "language": "python",
   "name": "python3"
  },
  "language_info": {
   "codemirror_mode": {
    "name": "ipython",
    "version": 3
   },
   "file_extension": ".py",
   "mimetype": "text/x-python",
   "name": "python",
   "nbconvert_exporter": "python",
   "pygments_lexer": "ipython3",
   "version": "3.9.12"
  }
 },
 "nbformat": 4,
 "nbformat_minor": 5
}
